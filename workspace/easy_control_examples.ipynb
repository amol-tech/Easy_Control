{
 "cells": [
  {
   "cell_type": "markdown",
   "id": "5014153f-217f-420e-b2bb-3bb0336ba17f",
   "metadata": {},
   "source": [
    "### Multi Select"
   ]
  },
  {
   "cell_type": "code",
   "execution_count": 1,
   "id": "32195f4c-0b38-4b81-a26c-199fc8a76736",
   "metadata": {},
   "outputs": [
    {
     "data": {
      "application/vnd.jupyter.widget-view+json": {
       "model_id": "fdb2a1663b124d39af0acd8311717f89",
       "version_major": 2,
       "version_minor": 0
      },
      "text/plain": [
       "VBox(children=(HBox(children=(Dropdown(layout=Layout(width='70%'), options=('', 'Monday', 'Tuesday', 'Wednesda…"
      ]
     },
     "execution_count": 1,
     "metadata": {},
     "output_type": "execute_result"
    }
   ],
   "source": [
    "import easy_widgets as easy_widgets\n",
    "list_days = ['Monday','Tuesday','Wednesday','Thursday','Friday']\n",
    "w_multi_select = easy_widgets.MulitSelect(layout={'width': '30%'},ID_PATH='multi.example',show_combo=False) # Either combo or dropdown\n",
    "w_multi_select.set_options(list_days) # All options to select\n",
    "w_multi_select.set_values(['Monday','Tuesday']) # preselected options\n",
    "w_multi_select.get_container()"
   ]
  },
  {
   "cell_type": "markdown",
   "id": "80f008dc-32ea-4655-97f8-93fdbbddab36",
   "metadata": {},
   "source": [
    "### Section Control"
   ]
  },
  {
   "cell_type": "code",
   "execution_count": 2,
   "id": "eec8b727-84fc-4dab-8463-5737167409aa",
   "metadata": {},
   "outputs": [
    {
     "data": {
      "application/vnd.jupyter.widget-view+json": {
       "model_id": "f392d4fdd03048f297bfc25c4431fca3",
       "version_major": 2,
       "version_minor": 0
      },
      "text/plain": [
       "VBox(children=(Label(value='Employee Detail'), VBox(layout=Layout(border_bottom='1px solid gray', border_left=…"
      ]
     },
     "execution_count": 2,
     "metadata": {},
     "output_type": "execute_result"
    }
   ],
   "source": [
    "import easy_widgets as easy_widgets\n",
    "import ipywidgets as widgets\n",
    "w_text = widgets.Text(description='Name',layout={'width': 'auto'})\n",
    "w_job = widgets.Text(description='Job Title',layout={'width': 'auto'})\n",
    "w_section_days = easy_widgets.SectionBox('Employee Detail',{'width': '30%'},[w_text,w_job])\n",
    "w_section_days.get_container()"
   ]
  },
  {
   "cell_type": "code",
   "execution_count": 3,
   "id": "110303ee-f3c7-4d86-a00a-05a1c90a121d",
   "metadata": {},
   "outputs": [
    {
     "data": {
      "application/vnd.jupyter.widget-view+json": {
       "model_id": "6396c89cc5fb4deaa01aa4f16866c8b2",
       "version_major": 2,
       "version_minor": 0
      },
      "text/plain": [
       "IntProgress(value=0, layout=Layout(width='200px'), max=10)"
      ]
     },
     "metadata": {},
     "output_type": "display_data"
    }
   ],
   "source": [
    "import easy_widgets as easy_widgets\n",
    "import time\n",
    "w_progress = easy_widgets.ProgressBar('200px')\n",
    "display(w_progress.get_container())\n",
    "w_progress.start()\n",
    "time.sleep(5)\n",
    "w_progress.stop()"
   ]
  },
  {
   "cell_type": "markdown",
   "id": "695c8808-8a12-4416-b743-c029b733c31b",
   "metadata": {},
   "source": [
    "### Vertical Tabs ###"
   ]
  },
  {
   "cell_type": "code",
   "execution_count": 4,
   "id": "ce251a8d-9466-4fd5-b98e-7d459d8011ae",
   "metadata": {},
   "outputs": [
    {
     "data": {
      "application/vnd.jupyter.widget-view+json": {
       "model_id": "12a7f6f2bdf24b5b977b8ccab3ad445a",
       "version_major": 2,
       "version_minor": 0
      },
      "text/plain": [
       "HBox(children=(VBox(children=(Button(description='Customer', layout=Layout(display='flex', justify_content='fl…"
      ]
     },
     "execution_count": 4,
     "metadata": {},
     "output_type": "execute_result"
    }
   ],
   "source": [
    "import easy_widgets as easy_widgets\n",
    "import ipywidgets as widgets\n",
    "dict_vtabs = {}\n",
    "dict_vtabs['Customer']  = widgets.Label('...Customer Detail')\n",
    "dict_vtabs['Sales']  = widgets.Label('...Sales Detail')\n",
    "dict_vtabs['Product']  = widgets.Label('...Product Detail')\n",
    "w_vtabs = easy_widgets.VTab(dict_vtabs,'500px','100%')\n",
    "w_vtabs.get_container()"
   ]
  },
  {
   "cell_type": "markdown",
   "id": "0a6c7e37-c33b-4f9a-8b45-f7de4f207e2d",
   "metadata": {},
   "source": [
    "### Output Pages - Pagination ##"
   ]
  },
  {
   "cell_type": "code",
   "execution_count": 5,
   "id": "c15540e8-4e8c-4aa0-917c-c1af94e9af7b",
   "metadata": {},
   "outputs": [
    {
     "data": {
      "application/vnd.jupyter.widget-view+json": {
       "model_id": "978d023b1fa5434485ead83fed95c375",
       "version_major": 2,
       "version_minor": 0
      },
      "text/plain": [
       "VBox(children=(VBox(children=(HBox(children=(Button(disabled=True, icon='fast-backward', layout=Layout(width='…"
      ]
     },
     "execution_count": 5,
     "metadata": {},
     "output_type": "execute_result"
    }
   ],
   "source": [
    "import easy_widgets as easy_widgets\n",
    "import ipywidgets as widgets\n",
    "import pandas as pd\n",
    "df_emp = pd.read_csv('emp.csv')\n",
    "w_output_pages = easy_widgets.OutputPages(df_emp,page_size=10)\n",
    "w_vbox = widgets.VBox([w_output_pages.get_container()],layout={'width':'60%'})\n",
    "w_vbox"
   ]
  },
  {
   "cell_type": "markdown",
   "id": "44a7add3-c048-47a0-bc86-3b15b70d1366",
   "metadata": {},
   "source": [
    "### Show Multiple Output's in Horizontal Tab ###"
   ]
  },
  {
   "cell_type": "code",
   "execution_count": 6,
   "id": "5be57235-6897-4346-9e7e-c68c9964d012",
   "metadata": {},
   "outputs": [
    {
     "data": {
      "application/vnd.jupyter.widget-view+json": {
       "model_id": "b1afd8fec1294e6d9b1ca7a5cbd2df70",
       "version_major": 2,
       "version_minor": 0
      },
      "text/plain": [
       "Tab(children=(VBox(children=(VBox(children=(HBox(children=(Button(disabled=True, icon='fast-backward', layout=…"
      ]
     },
     "execution_count": 6,
     "metadata": {},
     "output_type": "execute_result"
    }
   ],
   "source": [
    "import pandas as pd\n",
    "import easy_widgets as easy_widgets\n",
    "import plotly.express as px\n",
    "\n",
    "df_emp = pd.read_csv('emp.csv')\n",
    "df_desig = df_emp[['DESIG','SALARY']].groupby('DESIG').sum()\n",
    "df_desig.columns = ['Total']\n",
    "df_desig = df_desig.reset_index()\n",
    "fig = px.pie(df_desig, values='Total', names='DESIG')\n",
    "fig.update_layout(template='plotly_dark', title='Designationwise Salary')\n",
    "list_output = [{'name':'Employee','data':df_emp},\n",
    "               {'name':'Designation','data':df_desig},\n",
    "               {'name':'Salary Proportion','dynamic_graph':fig},\n",
    "              ]\n",
    "w_output_result = easy_widgets.OutputResult(list_output)\n",
    "w_output_result.get_container()\n"
   ]
  }
 ],
 "metadata": {
  "kernelspec": {
   "display_name": "Python 3 (ipykernel)",
   "language": "python",
   "name": "python3"
  },
  "language_info": {
   "codemirror_mode": {
    "name": "ipython",
    "version": 3
   },
   "file_extension": ".py",
   "mimetype": "text/x-python",
   "name": "python",
   "nbconvert_exporter": "python",
   "pygments_lexer": "ipython3",
   "version": "3.7.1rc1"
  }
 },
 "nbformat": 4,
 "nbformat_minor": 5
}
